{
 "cells": [
  {
   "cell_type": "code",
   "execution_count": 1,
   "metadata": {},
   "outputs": [],
   "source": [
    "import numpy as np\n",
    "import pandas as pd\n",
    "'''Seaborn and Matplotlib Visualization'''\n",
    "import matplotlib.pyplot as plt\n",
    "import seaborn as sns\n",
    "%matplotlib inline"
   ]
  },
  {
   "cell_type": "code",
   "execution_count": null,
   "metadata": {},
   "outputs": [],
   "source": [
    "'''Read in train and test data from csv files'''\n",
    "train = pd.read_csv('train.csv')\n",
    "test = pd.read_csv('test.csv')\n",
    "train"
   ]
  },
  {
   "cell_type": "code",
   "execution_count": null,
   "metadata": {},
   "outputs": [],
   "source": [
    "\"\"\"Let's merge the train and test data and inspect the data type\"\"\"\n",
    "merged = pd.concat([train, test], axis=0, sort=True)\n",
    "display(merged.dtypes.value_counts())\n",
    "print('Dimensions of data:', merged.shape)"
   ]
  },
  {
   "cell_type": "code",
   "execution_count": null,
   "metadata": {},
   "outputs": [],
   "source": [
    "'''Extracting numerical variables first'''\n",
    "num_merged = merged.select_dtypes(include = ['int64', 'float64'])\n",
    "display(num_merged.head(3))\n",
    "print('\\n')\n",
    "display(num_merged.columns.values)"
   ]
  },
  {
   "cell_type": "code",
   "execution_count": 5,
   "metadata": {},
   "outputs": [],
   "source": [
    "'''Drop observations where TotlaBsmtSF is greater than 3000 sq.ft'''\n",
    "train.drop(train[train.TotalBsmtSF>3000].index, inplace = True)\n",
    "train.reset_index(drop = True, inplace = True)"
   ]
  },
  {
   "cell_type": "code",
   "execution_count": null,
   "metadata": {},
   "outputs": [],
   "source": [
    "'''Standarize numeric features with RobustScaler'''\n",
    "from sklearn.preprocessing import RobustScaler\n",
    "\n",
    "'''Creating scaler object.'''\n",
    "scaler = RobustScaler()\n",
    "\n",
    "'''Fit scaler object on train data.'''\n",
    "scaler.fit(num_merged)\n",
    "\n",
    "'''Apply scaler object to both train and test data.'''\n",
    "df_merged_num_scaled = scaler.transform(num_merged)\n",
    "df_merged_num_scaled"
   ]
  },
  {
   "cell_type": "code",
   "execution_count": null,
   "metadata": {},
   "outputs": [],
   "source": []
  }
 ],
 "metadata": {
  "kernelspec": {
   "display_name": "Python 3",
   "language": "python",
   "name": "python3"
  },
  "language_info": {
   "codemirror_mode": {
    "name": "ipython",
    "version": 3
   },
   "file_extension": ".py",
   "mimetype": "text/x-python",
   "name": "python",
   "nbconvert_exporter": "python",
   "pygments_lexer": "ipython3",
   "version": "3.7.1"
  }
 },
 "nbformat": 4,
 "nbformat_minor": 2
}
